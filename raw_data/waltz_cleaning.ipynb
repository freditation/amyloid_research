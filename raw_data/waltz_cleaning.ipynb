{
 "cells": [
  {
   "cell_type": "code",
   "execution_count": 1,
   "metadata": {},
   "outputs": [],
   "source": [
    "# import libraries\n",
    "import os\n",
    "import pandas as pd"
   ]
  },
  {
   "cell_type": "code",
   "execution_count": 2,
   "metadata": {},
   "outputs": [],
   "source": [
    "# Cleaning Parameters\n",
    "amino_acid_letters = pd.Series(list('ACDEFGHIKLMNPQRSTVWY'))    # Series of all amino acid abbreviations\n",
    "max_overlap = 3    # Maximum overlap between two sequences\n",
    "max_seq_length = 6    # Maximum sequence length\n",
    "source_filepath = './waltz.csv'    # Location of original Waltz data\n",
    "target_directory = '.'    # Output destination"
   ]
  },
  {
   "cell_type": "code",
   "execution_count": 3,
   "metadata": {},
   "outputs": [],
   "source": [
    "# Read data as dataframe\n",
    "waltz_df = pd.read_csv(source_filepath, sep='\\t', header=0)\n",
    "input_seq_count = len(waltz_df.Sequence)"
   ]
  },
  {
   "cell_type": "code",
   "execution_count": 4,
   "metadata": {},
   "outputs": [],
   "source": [
    "# 1 = amyloid, 0 = non-amyloid\n",
    "waltz_df.Amyloid = waltz_df.Amyloid.map(lambda x: 1 if x == '+' else 0)\n",
    "\n",
    "# Only use sequences of length six\n",
    "waltz_df = waltz_df[waltz_df.Sequence.map(len) == max_seq_length]"
   ]
  },
  {
   "cell_type": "code",
   "execution_count": 5,
   "metadata": {},
   "outputs": [],
   "source": [
    "def overlap(seq1, seq2) -> int:\n",
    "    \"\"\" Return the number of overlapping amino acids \"\"\"\n",
    "    count = 0\n",
    "    if len(seq1) > len(seq2):\n",
    "        return overlap(seq2, seq1)\n",
    "    for i in range(len(seq1)):\n",
    "        if seq1[i] == seq2[i]:\n",
    "            count += 1\n",
    "    return count"
   ]
  },
  {
   "cell_type": "code",
   "execution_count": 6,
   "metadata": {},
   "outputs": [],
   "source": [
    "# Get array of non-overlapping sequences\n",
    "distinct = []\n",
    "for seq in waltz_df.Sequence:\n",
    "    matches = [overlap(seq, y) for y in distinct]\n",
    "    if max(matches, default=0) <= max_overlap:\n",
    "        distinct.append(seq)\n",
    "waltz_df_no_overlap = waltz_df[waltz_df.Sequence.isin(distinct)]\n",
    "waltz_df_no_overlap = waltz_df_no_overlap.reset_index(drop=True)"
   ]
  },
  {
   "cell_type": "code",
   "execution_count": 7,
   "metadata": {},
   "outputs": [],
   "source": [
    "# Create orthogonal vectors for each amino acid\n",
    "amino_acids = pd.get_dummies(amino_acid_letters)\n",
    "\n",
    "for df in [waltz_df, waltz_df_no_overlap]:\n",
    "    for i in range(len(df)):\n",
    "        for j in range(len(df.loc[i, 'Sequence'])):\n",
    "            sequence = df.at[i, 'Sequence']\n",
    "            vector = amino_acids[sequence[j]]\n",
    "            for k in range(len(vector)):\n",
    "                df.loc[i, f'seq[{j}]_orth[{k}]'] = vector[k]"
   ]
  },
  {
   "cell_type": "code",
   "execution_count": 8,
   "metadata": {},
   "outputs": [],
   "source": [
    "# Write dataframes to csv\n",
    "waltz_df.to_csv(os.path.join(target_directory, 'waltz_features.csv'), sep=',', index=False)\n",
    "waltz_df_no_overlap.to_csv(os.path.join(target_directory, 'waltz_features_no_overlap.csv'), sep=',', index=False)"
   ]
  },
  {
   "cell_type": "code",
   "execution_count": 9,
   "metadata": {},
   "outputs": [
    {
     "name": "stdout",
     "output_type": "stream",
     "text": [
      "\n",
      "    # Waltz feature processing complete:\n",
      "\n",
      "    * sequence count: 278\n",
      "    * non-overlapping sequence count: 172\n",
      "    * amyloid count: 116\n",
      "    * non-overlapping amyloid count: 53\n",
      "    * % amyloid: 41.73%\n",
      "    * % non-overlapping amyloid: 30.81%\n",
      "    \n"
     ]
    }
   ],
   "source": [
    "print(\n",
    "    f'''\n",
    "    # Waltz feature processing complete:\n",
    "\n",
    "    * sequence count: {input_seq_count}\n",
    "    * non-overlapping sequence count: {len(waltz_df_no_overlap.index)}\n",
    "    * amyloid count: {waltz_df.Amyloid.sum()}\n",
    "    * non-overlapping amyloid count: {waltz_df_no_overlap.Amyloid.sum()}\n",
    "    * % amyloid: {100 * waltz_df.Amyloid.sum() / len(waltz_df.index):.2f}%\n",
    "    * % non-overlapping amyloid: {100 * waltz_df_no_overlap.Amyloid.sum() / len(waltz_df_no_overlap.index):.2f}%\n",
    "    '''\n",
    ")"
   ]
  },
  {
   "cell_type": "code",
   "execution_count": null,
   "metadata": {},
   "outputs": [],
   "source": []
  }
 ],
 "metadata": {
  "kernelspec": {
   "display_name": "Python 3",
   "language": "python",
   "name": "python3"
  },
  "language_info": {
   "codemirror_mode": {
    "name": "ipython",
    "version": 3
   },
   "file_extension": ".py",
   "mimetype": "text/x-python",
   "name": "python",
   "nbconvert_exporter": "python",
   "pygments_lexer": "ipython3",
   "version": "3.6.7"
  }
 },
 "nbformat": 4,
 "nbformat_minor": 2
}
