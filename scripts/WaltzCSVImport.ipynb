{
 "cells": [
  {
   "cell_type": "code",
   "execution_count": 1,
   "metadata": {
    "collapsed": true
   },
   "outputs": [],
   "source": [
    "# import libraries.\n",
    "import numpy as np\n",
    "import pandas as pd\n",
    "import os"
   ]
  },
  {
   "cell_type": "code",
   "execution_count": 2,
   "metadata": {},
   "outputs": [
    {
     "data": {
      "text/html": [
       "<div>\n",
       "<table border=\"1\" class=\"dataframe\">\n",
       "  <thead>\n",
       "    <tr style=\"text-align: right;\">\n",
       "      <th></th>\n",
       "      <th>Classification</th>\n",
       "      <th>FTIR Image</th>\n",
       "      <th>FTIR peaks</th>\n",
       "      <th>Proteostat binding</th>\n",
       "      <th>Sequence</th>\n",
       "      <th>TANGO</th>\n",
       "      <th>TEM Staining</th>\n",
       "      <th>TEM image</th>\n",
       "      <th>Waltz 1</th>\n",
       "      <th>Subset</th>\n",
       "    </tr>\n",
       "  </thead>\n",
       "  <tbody>\n",
       "    <tr>\n",
       "      <th>0</th>\n",
       "      <td>non-amyloid</td>\n",
       "      <td>NaN</td>\n",
       "      <td>NaN</td>\n",
       "      <td>NaN</td>\n",
       "      <td>AAAQAA</td>\n",
       "      <td>0.0</td>\n",
       "      <td>no</td>\n",
       "      <td>NaN</td>\n",
       "      <td>0.0</td>\n",
       "      <td>TDP43</td>\n",
       "    </tr>\n",
       "    <tr>\n",
       "      <th>1</th>\n",
       "      <td>non-amyloid</td>\n",
       "      <td>NaN</td>\n",
       "      <td>NaN</td>\n",
       "      <td>NaN</td>\n",
       "      <td>AAELRN</td>\n",
       "      <td>0.0</td>\n",
       "      <td>N.A.</td>\n",
       "      <td>NaN</td>\n",
       "      <td>0.0</td>\n",
       "      <td>Literature</td>\n",
       "    </tr>\n",
       "    <tr>\n",
       "      <th>2</th>\n",
       "      <td>non-amyloid</td>\n",
       "      <td>NaN</td>\n",
       "      <td>NaN</td>\n",
       "      <td>NaN</td>\n",
       "      <td>AAIDWF</td>\n",
       "      <td>0.0</td>\n",
       "      <td>no</td>\n",
       "      <td>NaN</td>\n",
       "      <td>0.0</td>\n",
       "      <td>FUS</td>\n",
       "    </tr>\n",
       "    <tr>\n",
       "      <th>3</th>\n",
       "      <td>non-amyloid</td>\n",
       "      <td>NaN</td>\n",
       "      <td>NaN</td>\n",
       "      <td>NaN</td>\n",
       "      <td>AAIGWG</td>\n",
       "      <td>0.0</td>\n",
       "      <td>no</td>\n",
       "      <td>NaN</td>\n",
       "      <td>0.0</td>\n",
       "      <td>TDP43</td>\n",
       "    </tr>\n",
       "    <tr>\n",
       "      <th>4</th>\n",
       "      <td>non-amyloid</td>\n",
       "      <td>NaN</td>\n",
       "      <td>NaN</td>\n",
       "      <td>NaN</td>\n",
       "      <td>AALQSS</td>\n",
       "      <td>0.0</td>\n",
       "      <td>no</td>\n",
       "      <td>NaN</td>\n",
       "      <td>0.0</td>\n",
       "      <td>TDP43</td>\n",
       "    </tr>\n",
       "  </tbody>\n",
       "</table>\n",
       "</div>"
      ],
      "text/plain": [
       "  Classification FTIR Image FTIR peaks  Proteostat binding Sequence  TANGO  \\\n",
       "0    non-amyloid        NaN        NaN                 NaN   AAAQAA    0.0   \n",
       "1    non-amyloid        NaN        NaN                 NaN   AAELRN    0.0   \n",
       "2    non-amyloid        NaN        NaN                 NaN   AAIDWF    0.0   \n",
       "3    non-amyloid        NaN        NaN                 NaN   AAIGWG    0.0   \n",
       "4    non-amyloid        NaN        NaN                 NaN   AALQSS    0.0   \n",
       "\n",
       "  TEM Staining TEM image  Waltz 1      Subset  \n",
       "0           no       NaN      0.0       TDP43  \n",
       "1         N.A.       NaN      0.0  Literature  \n",
       "2           no       NaN      0.0         FUS  \n",
       "3           no       NaN      0.0       TDP43  \n",
       "4           no       NaN      0.0       TDP43  "
      ]
     },
     "execution_count": 2,
     "metadata": {},
     "output_type": "execute_result"
    }
   ],
   "source": [
    "# load csv files into pandas dataframes.\n",
    "df_waltz = pd.read_csv('C:/Users/Frederick Russo/Desktop/waltzdb_export.csv')\n",
    "df_waltz.head()"
   ]
  },
  {
   "cell_type": "code",
   "execution_count": 3,
   "metadata": {},
   "outputs": [
    {
     "data": {
      "text/html": [
       "<div>\n",
       "<table border=\"1\" class=\"dataframe\">\n",
       "  <thead>\n",
       "    <tr style=\"text-align: right;\">\n",
       "      <th></th>\n",
       "      <th>Sequence</th>\n",
       "      <th>Classification</th>\n",
       "    </tr>\n",
       "  </thead>\n",
       "  <tbody>\n",
       "    <tr>\n",
       "      <th>0</th>\n",
       "      <td>AAAQAA</td>\n",
       "      <td>non-amyloid</td>\n",
       "    </tr>\n",
       "    <tr>\n",
       "      <th>1</th>\n",
       "      <td>AAELRN</td>\n",
       "      <td>non-amyloid</td>\n",
       "    </tr>\n",
       "    <tr>\n",
       "      <th>2</th>\n",
       "      <td>AAIDWF</td>\n",
       "      <td>non-amyloid</td>\n",
       "    </tr>\n",
       "    <tr>\n",
       "      <th>3</th>\n",
       "      <td>AAIGWG</td>\n",
       "      <td>non-amyloid</td>\n",
       "    </tr>\n",
       "    <tr>\n",
       "      <th>4</th>\n",
       "      <td>AALQSS</td>\n",
       "      <td>non-amyloid</td>\n",
       "    </tr>\n",
       "  </tbody>\n",
       "</table>\n",
       "</div>"
      ],
      "text/plain": [
       "  Sequence Classification\n",
       "0   AAAQAA    non-amyloid\n",
       "1   AAELRN    non-amyloid\n",
       "2   AAIDWF    non-amyloid\n",
       "3   AAIGWG    non-amyloid\n",
       "4   AALQSS    non-amyloid"
      ]
     },
     "execution_count": 3,
     "metadata": {},
     "output_type": "execute_result"
    }
   ],
   "source": [
    "# filter out unnecessary columns.\n",
    "chosen_headers = ['Sequence', 'Classification']\n",
    "df_waltz = df_waltz[chosen_headers]\n",
    "df_waltz.head()"
   ]
  },
  {
   "cell_type": "code",
   "execution_count": 4,
   "metadata": {},
   "outputs": [
    {
     "data": {
      "text/html": [
       "<div>\n",
       "<table border=\"1\" class=\"dataframe\">\n",
       "  <thead>\n",
       "    <tr style=\"text-align: right;\">\n",
       "      <th></th>\n",
       "      <th>Sequence</th>\n",
       "      <th>Classification</th>\n",
       "    </tr>\n",
       "  </thead>\n",
       "  <tbody>\n",
       "    <tr>\n",
       "      <th>0</th>\n",
       "      <td>AAAQAA</td>\n",
       "      <td>0</td>\n",
       "    </tr>\n",
       "    <tr>\n",
       "      <th>1</th>\n",
       "      <td>AAELRN</td>\n",
       "      <td>0</td>\n",
       "    </tr>\n",
       "    <tr>\n",
       "      <th>2</th>\n",
       "      <td>AAIDWF</td>\n",
       "      <td>0</td>\n",
       "    </tr>\n",
       "    <tr>\n",
       "      <th>3</th>\n",
       "      <td>AAIGWG</td>\n",
       "      <td>0</td>\n",
       "    </tr>\n",
       "    <tr>\n",
       "      <th>4</th>\n",
       "      <td>AALQSS</td>\n",
       "      <td>0</td>\n",
       "    </tr>\n",
       "  </tbody>\n",
       "</table>\n",
       "</div>"
      ],
      "text/plain": [
       "  Sequence  Classification\n",
       "0   AAAQAA               0\n",
       "1   AAELRN               0\n",
       "2   AAIDWF               0\n",
       "3   AAIGWG               0\n",
       "4   AALQSS               0"
      ]
     },
     "execution_count": 4,
     "metadata": {},
     "output_type": "execute_result"
    }
   ],
   "source": [
    "# convert amyloid/non-amyloid classifications into binary 1/0.\n",
    "df_waltz = df_waltz.replace(to_replace = 'non-amyloid', value = 0)\n",
    "df_waltz = df_waltz.replace(to_replace = 'amyloid', value = 1)\n",
    "df_waltz.head()"
   ]
  },
  {
   "cell_type": "code",
   "execution_count": 5,
   "metadata": {
    "collapsed": true
   },
   "outputs": [],
   "source": [
    "# define dictionary of binary amino acid abbreviation mappings.\n",
    "amino_dict = {\n",
    "    'A' : '1000000000000000000000',\n",
    "    'B' : '0100000000000000000000',\n",
    "    'C' : '0010000000000000000000',\n",
    "    'D' : '0001000000000000000000',\n",
    "    'E' : '0000100000000000000000',\n",
    "    'F' : '0000010000000000000000',\n",
    "    'G' : '0000001000000000000000',\n",
    "    'H' : '0000000100000000000000',\n",
    "    'I' : '0000000010000000000000',\n",
    "    'K' : '0000000001000000000000',\n",
    "    'L' : '0000000000100000000000',\n",
    "    'M' : '0000000000010000000000',\n",
    "    'N' : '0000000000001000000000',\n",
    "    'P' : '0000000000000100000000',\n",
    "    'Q' : '0000000000000010000000',\n",
    "    'R' : '0000000000000001000000',\n",
    "    'S' : '0000000000000000100000',\n",
    "    'T' : '0000000000000000010000',\n",
    "    'V' : '0000000000000000001000',\n",
    "    'W' : '0000000000000000000100',\n",
    "    'Y' : '0000000000000000000010',\n",
    "    'Z' : '0000000000000000000001'\n",
    "}\n",
    "\n",
    "# define a function to convert from abbreviation to binary string.\n",
    "def abbrev_to_binary(str):\n",
    "    binary_list = ''\n",
    "    for s in str:\n",
    "        binary_list += amino_dict[s]\n",
    "    return binary_list;"
   ]
  },
  {
   "cell_type": "code",
   "execution_count": 6,
   "metadata": {},
   "outputs": [
    {
     "data": {
      "text/html": [
       "<div>\n",
       "<table border=\"1\" class=\"dataframe\">\n",
       "  <thead>\n",
       "    <tr style=\"text-align: right;\">\n",
       "      <th></th>\n",
       "      <th>Sequence</th>\n",
       "      <th>Classification</th>\n",
       "    </tr>\n",
       "  </thead>\n",
       "  <tbody>\n",
       "    <tr>\n",
       "      <th>0</th>\n",
       "      <td>1000000000000000000000100000000000000000000010...</td>\n",
       "      <td>0</td>\n",
       "    </tr>\n",
       "    <tr>\n",
       "      <th>1</th>\n",
       "      <td>1000000000000000000000100000000000000000000000...</td>\n",
       "      <td>0</td>\n",
       "    </tr>\n",
       "    <tr>\n",
       "      <th>2</th>\n",
       "      <td>1000000000000000000000100000000000000000000000...</td>\n",
       "      <td>0</td>\n",
       "    </tr>\n",
       "    <tr>\n",
       "      <th>3</th>\n",
       "      <td>1000000000000000000000100000000000000000000000...</td>\n",
       "      <td>0</td>\n",
       "    </tr>\n",
       "    <tr>\n",
       "      <th>4</th>\n",
       "      <td>1000000000000000000000100000000000000000000000...</td>\n",
       "      <td>0</td>\n",
       "    </tr>\n",
       "  </tbody>\n",
       "</table>\n",
       "</div>"
      ],
      "text/plain": [
       "                                            Sequence  Classification\n",
       "0  1000000000000000000000100000000000000000000010...               0\n",
       "1  1000000000000000000000100000000000000000000000...               0\n",
       "2  1000000000000000000000100000000000000000000000...               0\n",
       "3  1000000000000000000000100000000000000000000000...               0\n",
       "4  1000000000000000000000100000000000000000000000...               0"
      ]
     },
     "execution_count": 6,
     "metadata": {},
     "output_type": "execute_result"
    }
   ],
   "source": [
    "# convert amino acid abbreviations into binary strings.\n",
    "df_waltz['Sequence'] = df_waltz['Sequence'].apply(abbrev_to_binary, 1)\n",
    "df_waltz.head()"
   ]
  },
  {
   "cell_type": "code",
   "execution_count": null,
   "metadata": {
    "collapsed": true
   },
   "outputs": [],
   "source": []
  }
 ],
 "metadata": {
  "anaconda-cloud": {},
  "kernelspec": {
   "display_name": "Python 3",
   "language": "python",
   "name": "python3"
  },
  "language_info": {
   "codemirror_mode": {
    "name": "ipython",
    "version": 3
   },
   "file_extension": ".py",
   "mimetype": "text/x-python",
   "name": "python",
   "nbconvert_exporter": "python",
   "pygments_lexer": "ipython3",
   "version": "3.6.1"
  }
 },
 "nbformat": 4,
 "nbformat_minor": 1
}
