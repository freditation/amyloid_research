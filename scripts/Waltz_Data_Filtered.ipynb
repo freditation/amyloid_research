{
 "cells": [
  {
   "cell_type": "code",
   "execution_count": 1,
   "metadata": {
    "collapsed": true
   },
   "outputs": [],
   "source": [
    "# import libraries\n",
    "import re\n",
    "import pandas as pd\n",
    "import csv\n",
    "import numpy as np"
   ]
  },
  {
   "cell_type": "code",
   "execution_count": 2,
   "metadata": {
    "collapsed": false
   },
   "outputs": [],
   "source": [
    "# load waltz data\n",
    "waltz_data = pd.read_csv('Waltz_Data')"
   ]
  },
  {
   "cell_type": "code",
   "execution_count": 4,
   "metadata": {
    "collapsed": false
   },
   "outputs": [],
   "source": [
    "# remove any sequences not of length 6, so only hexapeptides remain\n",
    "waltz_data = waltz_data[waltz_data['Sequence'].map(len) == 6]"
   ]
  },
  {
   "cell_type": "code",
   "execution_count": 5,
   "metadata": {
    "collapsed": true
   },
   "outputs": [],
   "source": [
    "# define a function to count matching amino acids in same position for two peptide sequences\n",
    "def similarity(string1, string2):\n",
    "    overlap = 0\n",
    "    # make sure string1 is at least shorter than string2\n",
    "    if (len(string2) < len(string1)):\n",
    "        return similarity(string2, string1)\n",
    "    else:\n",
    "        for i in range(0, len(string1)):\n",
    "            if (string1[i] == string2[i]):\n",
    "                overlap += 1\n",
    "    return overlap"
   ]
  },
  {
   "cell_type": "code",
   "execution_count": 6,
   "metadata": {
    "collapsed": false
   },
   "outputs": [],
   "source": [
    "# set the threshold maximum similarity\n",
    "threshold = 3\n",
    "\n",
    "# create an empty list, to which 'non-similar' sequences will be added\n",
    "non_similar_list = []\n",
    "\n",
    "# loop through all of the sequences in the waltz_data\n",
    "for sequence in waltz_data['Sequence']:\n",
    "    # create a list of the similarities between sequence and every element in the non_similar_list\n",
    "    list_matches = [similarity(sequence, y) for y in non_similar_list]\n",
    "    # if no sequence has similarity greater than the threshold, then add sequence to the non_similar_list\n",
    "    if (max(list_matches, default = 0) <= threshold):\n",
    "        non_similar_list.append(sequence)"
   ]
  },
  {
   "cell_type": "code",
   "execution_count": 7,
   "metadata": {
    "collapsed": false
   },
   "outputs": [],
   "source": [
    "# filter out similar hexapeptides\n",
    "waltz_data = waltz_data[waltz_data['Sequence'].isin(non_similar_list)]\n",
    "\n",
    "# save to new .csv file\n",
    "waltz_data.to_csv('Waltz_Data_Filtered', sep = ',', index = False)"
   ]
  }
 ],
 "metadata": {
  "anaconda-cloud": {},
  "kernelspec": {
   "display_name": "Python 3",
   "language": "python",
   "name": "python3"
  },
  "language_info": {
   "codemirror_mode": {
    "name": "ipython",
    "version": 3
   },
   "file_extension": ".py",
   "mimetype": "text/x-python",
   "name": "python",
   "nbconvert_exporter": "python",
   "pygments_lexer": "ipython3",
   "version": "3.6.0"
  }
 },
 "nbformat": 4,
 "nbformat_minor": 2
}
