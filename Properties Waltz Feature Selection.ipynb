{
 "cells": [
  {
   "cell_type": "code",
   "execution_count": 1,
   "metadata": {
    "collapsed": true
   },
   "outputs": [],
   "source": [
    "# import basic python libraries\n",
    "import numpy as np\n",
    "import pandas as pd\n",
    "\n",
    "# load sequence data\n",
    "sequence_data = pd.read_csv('Waltz_and_AAIndex1_Data_Filtered')\n",
    "\n",
    "features = sequence_data.drop(['Classification', 'Sequence'], axis = 1)\n",
    "targets = sequence_data['Classification']"
   ]
  },
  {
   "cell_type": "code",
   "execution_count": 2,
   "metadata": {
    "collapsed": true
   },
   "outputs": [],
   "source": [
    "# remove orthogonal vectors and save them to a dataframe called removed\n",
    "removed = pd.DataFrame()\n",
    "for i in range(0, 6):\n",
    "    for j in range(0, 20):\n",
    "        removed['pos' + str(i) + '_orth_' + str(j)] = features['pos' + str(i) + '_orth_' + str(j)]\n",
    "        features = features.drop(['pos' + str(i) + '_orth_' + str(j)], axis = 1)"
   ]
  },
  {
   "cell_type": "code",
   "execution_count": 3,
   "metadata": {
    "collapsed": false
   },
   "outputs": [],
   "source": [
    "chosen = ['pos3_NOZY710101', 'pos4_NOZY710101', 'pos4_VASM830103', 'pos1_PALJ810104', \n",
    "          'pos2_PALJ810104', 'pos0_CHOP780206', 'pos1_ROBB760102', 'pos0_GEIM800107', \n",
    "          'pos1_GEIM800107', 'pos2_GEIM800107', 'pos2_GARJ730101', 'pos0_FAUJ880110', \n",
    "          'pos1_FAUJ880110', 'pos2_FAUJ880110', 'pos3_FAUJ880110', 'pos4_FAUJ880110',\n",
    "          'pos0_VENT840101', 'pos0_RACS820114', 'pos2_RACS820114', 'pos4_RACS820114', \n",
    "          'pos3_ONEK900102', 'pos4_ONEK900102', 'pos5_ONEK900102', 'pos1_PTIO830102', \n",
    "          'pos2_PTIO830102', 'pos5_FINA910102', 'pos5_MAXF760104', 'pos0_ZIMJ680103', \n",
    "          'pos5_ZIMJ680103', 'pos1_QIAN880123', 'pos5_AURR980106', 'pos0_FINA910102', \n",
    "          'pos1_FINA910102', 'pos2_FINA910102', 'pos3_FINA910102', 'pos4_FINA910102'\n",
    "         ]\n",
    "\n",
    "# filter out unwanted columns so only 20 best remain\n",
    "chosen_features = features[chosen]\n",
    "\n",
    "# add back orthogonal vectors and classifications\n",
    "chosen_features = removed.join(chosen_features)\n",
    "chosen_features = pd.DataFrame(targets).join(chosen_features)"
   ]
  },
  {
   "cell_type": "code",
   "execution_count": 4,
   "metadata": {
    "collapsed": true
   },
   "outputs": [],
   "source": [
    "# save to new .csv file\n",
    "chosen_features.to_csv('Waltz_and_AAIndex1_Data_Filtered_Waltz_Features', sep = ',', index = False)"
   ]
  },
  {
   "cell_type": "code",
   "execution_count": null,
   "metadata": {
    "collapsed": true
   },
   "outputs": [],
   "source": []
  }
 ],
 "metadata": {
  "anaconda-cloud": {},
  "kernelspec": {
   "display_name": "Python 3",
   "language": "python",
   "name": "python3"
  },
  "language_info": {
   "codemirror_mode": {
    "name": "ipython",
    "version": 3
   },
   "file_extension": ".py",
   "mimetype": "text/x-python",
   "name": "python",
   "nbconvert_exporter": "python",
   "pygments_lexer": "ipython3",
   "version": "3.6.0"
  }
 },
 "nbformat": 4,
 "nbformat_minor": 1
}
