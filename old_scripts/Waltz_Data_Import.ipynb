{
 "cells": [
  {
   "cell_type": "code",
   "execution_count": 1,
   "metadata": {
    "collapsed": true
   },
   "outputs": [],
   "source": [
    "# import libraries\n",
    "import re\n",
    "import pandas as pd\n",
    "import csv\n",
    "import numpy as np"
   ]
  },
  {
   "cell_type": "code",
   "execution_count": 2,
   "metadata": {
    "collapsed": false
   },
   "outputs": [],
   "source": [
    "# load waltz data\n",
    "waltz_data = pd.read_csv('waltzdb_export.csv', usecols = ['Sequence', 'Classification'])"
   ]
  },
  {
   "cell_type": "code",
   "execution_count": 3,
   "metadata": {
    "collapsed": false
   },
   "outputs": [],
   "source": [
    "# convert 'Classification' column into binary: 'amyloid' = 1, 'non-amyloid' = 0\n",
    "for i in range(0, len(waltz_data)):\n",
    "    classification = waltz_data.loc[i, 'Classification']\n",
    "    if (classification == 'amyloid'):\n",
    "        waltz_data.loc[i, 'Classification'] = 1\n",
    "    else:\n",
    "        waltz_data.loc[i, 'Classification'] = 0"
   ]
  },
  {
   "cell_type": "code",
   "execution_count": 4,
   "metadata": {
    "collapsed": true
   },
   "outputs": [],
   "source": [
    "# define dictionary of binary amino acid abbreviation mappings.\n",
    "amino_dict = {\n",
    "    'A' : '10000000000000000000',\n",
    "    'C' : '01000000000000000000',\n",
    "    'D' : '00100000000000000000',\n",
    "    'E' : '00010000000000000000',\n",
    "    'F' : '00001000000000000000',\n",
    "    'G' : '00000100000000000000',\n",
    "    'H' : '00000010000000000000',\n",
    "    'I' : '00000001000000000000',\n",
    "    'K' : '00000000100000000000',\n",
    "    'L' : '00000000010000000000',\n",
    "    'M' : '00000000001000000000',\n",
    "    'N' : '00000000000100000000',\n",
    "    'P' : '00000000000010000000',\n",
    "    'Q' : '00000000000001000000',\n",
    "    'R' : '00000000000000100000',\n",
    "    'S' : '00000000000000010000',\n",
    "    'T' : '00000000000000001000',\n",
    "    'V' : '00000000000000000100',\n",
    "    'W' : '00000000000000000010',\n",
    "    'Y' : '00000000000000000001'\n",
    "}"
   ]
  },
  {
   "cell_type": "code",
   "execution_count": 5,
   "metadata": {
    "collapsed": false
   },
   "outputs": [],
   "source": [
    "# assign peptide abbreviations to each column, e.g. 'pos0_orth_0' = 0\n",
    "for i in range(0, len(waltz_data)):\n",
    "    for j in range(0, len(waltz_data.loc[i, 'Sequence'])):\n",
    "        sequence = waltz_data.loc[i, 'Sequence']\n",
    "        orth_vector = amino_dict[sequence[j]]\n",
    "        for k in range(0, len(orth_vector)):\n",
    "            waltz_data.loc[i, 'pos' + str(j) + '_orth_' + str(k)] = int(orth_vector[k])"
   ]
  },
  {
   "cell_type": "code",
   "execution_count": 6,
   "metadata": {
    "collapsed": true
   },
   "outputs": [],
   "source": [
    "# save to .csv file\n",
    "waltz_data.to_csv('Waltz_Data', sep = ',', index = False)"
   ]
  }
 ],
 "metadata": {
  "kernelspec": {
   "display_name": "Python 3",
   "language": "python",
   "name": "python3"
  },
  "language_info": {
   "codemirror_mode": {
    "name": "ipython",
    "version": 3
   },
   "file_extension": ".py",
   "mimetype": "text/x-python",
   "name": "python",
   "nbconvert_exporter": "python",
   "pygments_lexer": "ipython3",
   "version": "3.6.0"
  }
 },
 "nbformat": 4,
 "nbformat_minor": 1
}
