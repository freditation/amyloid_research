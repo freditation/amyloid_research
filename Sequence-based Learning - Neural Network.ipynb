{
 "cells": [
  {
   "cell_type": "code",
   "execution_count": 30,
   "metadata": {
    "collapsed": true
   },
   "outputs": [],
   "source": [
    "% matplotlib inline\n",
    "\n",
    "# import libraries\n",
    "import pandas as pd\n",
    "import numpy as np\n",
    "from sklearn import model_selection\n",
    "from sklearn.ensemble import RandomForestClassifier\n",
    "from sklearn import svm\n",
    "from sklearn.linear_model import LogisticRegression"
   ]
  },
  {
   "cell_type": "code",
   "execution_count": 31,
   "metadata": {
    "collapsed": false,
    "scrolled": true
   },
   "outputs": [],
   "source": [
    "# load waltz data\n",
    "sequence_data = pd.read_csv('Waltz_Data_Filtered')"
   ]
  },
  {
   "cell_type": "code",
   "execution_count": 32,
   "metadata": {
    "collapsed": false
   },
   "outputs": [],
   "source": [
    "training_data = sequence_data.drop(['Classification', 'Sequence'], axis = 1)\n",
    "target_data = sequence_data['Classification']"
   ]
  },
  {
   "cell_type": "code",
   "execution_count": 33,
   "metadata": {
    "collapsed": true
   },
   "outputs": [],
   "source": [
    "estimators = {}\n",
    "estimators['logistic'] = LogisticRegression(C = 0.01)\n",
    "estimators['random_forest'] = RandomForestClassifier(n_estimators = 1000)\n",
    "estimators['svm_c_rbf'] = svm.SVC(C = 0.01)\n",
    "estimators['svm_c_linear'] = svm.SVC(kernel = 'linear', C = 0.01, gamma = 0.1)"
   ]
  },
  {
   "cell_type": "code",
   "execution_count": 35,
   "metadata": {
    "collapsed": false
   },
   "outputs": [
    {
     "name": "stdout",
     "output_type": "stream",
     "text": [
      "svm_c_linear\n",
      "C.V. Avg. Score: 0.818027 (+/- 0.005102)\n",
      "Test Set Score: 0.815951 \n",
      "\n",
      "svm_c_rbf\n",
      "C.V. Avg. Score: 0.818027 (+/- 0.005102)\n",
      "Test Set Score: 0.815951 \n",
      "\n",
      "logistic\n",
      "C.V. Avg. Score: 0.818027 (+/- 0.005102)\n",
      "Test Set Score: 0.815951 \n",
      "\n",
      "random_forest\n",
      "C.V. Avg. Score: 0.836395 (+/- 0.022379)\n",
      "Test Set Score: 0.803681 \n",
      "\n"
     ]
    }
   ],
   "source": [
    "x_train, x_test, y_train, y_test = model_selection.train_test_split(training_data, target_data, random_state = 12)\n",
    "\n",
    "for k in estimators.keys():\n",
    "    cvScore = model_selection.cross_val_score(estimators[k], x_train, y_train, cv = 10)\n",
    "    print(k)\n",
    "    print('C.V. Avg. Score: %0.6f (+/- %0.6f)' % (cvScore.mean(), cvScore.std()))\n",
    "    testScore = estimators[k].fit(x_train, y_train).score(x_test, y_test)\n",
    "    print('Test Set Score: %0.6f \\n' % testScore)"
   ]
  },
  {
   "cell_type": "code",
   "execution_count": null,
   "metadata": {
    "collapsed": true
   },
   "outputs": [],
   "source": []
  }
 ],
 "metadata": {
  "anaconda-cloud": {},
  "kernelspec": {
   "display_name": "Python [default]",
   "language": "python",
   "name": "python3"
  },
  "language_info": {
   "codemirror_mode": {
    "name": "ipython",
    "version": 3
   },
   "file_extension": ".py",
   "mimetype": "text/x-python",
   "name": "python",
   "nbconvert_exporter": "python",
   "pygments_lexer": "ipython3",
   "version": "3.5.2"
  }
 },
 "nbformat": 4,
 "nbformat_minor": 1
}
